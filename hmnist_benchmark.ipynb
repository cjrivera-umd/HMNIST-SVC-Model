{
 "cells": [
  {
   "cell_type": "code",
   "execution_count": 1,
   "metadata": {},
   "outputs": [
    {
     "name": "stderr",
     "output_type": "stream",
     "text": [
      "2023-12-16 13:01:55.383717: I tensorflow/core/platform/cpu_feature_guard.cc:182] This TensorFlow binary is optimized to use available CPU instructions in performance-critical operations.\n",
      "To enable the following instructions: AVX2 FMA, in other operations, rebuild TensorFlow with the appropriate compiler flags.\n"
     ]
    }
   ],
   "source": [
    "# Importing necessary libraries\n",
    "\n",
    "import os\n",
    "import cv2\n",
    "from PIL import Image\n",
    "import numpy as np\n",
    "import pandas as pd\n",
    "import matplotlib.pyplot as plt\n",
    "import tensorflow as tf\n",
    "from functools import partial"
   ]
  },
  {
   "cell_type": "markdown",
   "metadata": {},
   "source": [
    "# Processing Images\n",
    "### Converting JPEG images into rows of pixels"
   ]
  },
  {
   "cell_type": "code",
   "execution_count": 2,
   "metadata": {},
   "outputs": [],
   "source": [
    "# Retrieving ground truth data (skin lesion diagnoses)\n",
    "ground_truth_train_path = './archive/ISIC2018_Task3_Training_GroundTruth.csv'\n",
    "ground_truth_train_df = pd.read_csv(ground_truth_train_path)\n",
    "\n",
    "ground_truth_test_path = './archive/ISIC2018_Task3_Test_GroundTruth.csv'\n",
    "ground_truth_test_df = pd.read_csv(ground_truth_test_path)\n",
    "\n",
    "ground_truth_df = pd.concat([ground_truth_train_df, ground_truth_test_df], axis=0)\n",
    "CLASSES = ground_truth_df.columns.to_list()[1:]"
   ]
  },
  {
   "cell_type": "code",
   "execution_count": 3,
   "metadata": {},
   "outputs": [
    {
     "name": "stdout",
     "output_type": "stream",
     "text": [
      "Working through: ./archive/HAM10000_images_part_1/\n",
      "Working through: ./archive/HAM10000_images_part_2/\n",
      "Working through: ./archive/ISIC2018_Task3_Test_Input/\n",
      "Shape of training data: (10016, 2359)\n",
      "Shape of testing data: (1513, 2359)\n"
     ]
    }
   ],
   "source": [
    "# Converting images to pixel numpy arrays\n",
    "PIXELS = 28\n",
    "IMG_DIRS_TRAIN = ['./archive/HAM10000_images_part_1/', './archive/HAM10000_images_part_2/']\n",
    "IMG_DIRS_TEST = ['./archive/ISIC2018_Task3_Test_Input/']\n",
    "\n",
    "header = np.array([f'pixel{i:04}' for i in range(PIXELS * PIXELS * 3)] + CLASSES)\n",
    "data_train, data_test = [header], [header]\n",
    "for data, IMG_DIRS in zip([data_train, data_test], [IMG_DIRS_TRAIN, IMG_DIRS_TEST]):\n",
    "    for IMG_DIR in IMG_DIRS:\n",
    "        print(f'Working through: {IMG_DIR}')\n",
    "        for img in os.listdir(IMG_DIR):\n",
    "            # Getting pixel values from original jpg image\n",
    "            bgr_array = cv2.imread(os.path.join(IMG_DIR, img), cv2.IMREAD_COLOR)\n",
    "            bgr_pil = Image.fromarray(bgr_array)\n",
    "            bgr_resized = np.array(bgr_pil.resize((PIXELS, PIXELS)))\n",
    "            bgr_array = bgr_resized.flatten()\n",
    "\n",
    "            # Restructuring from BGR to RGB\n",
    "            rgb_list = []\n",
    "            for i in range(PIXELS ** 2):\n",
    "                b, g, r = bgr_array[(3 * i):(i * 3) + 3]\n",
    "                rgb_list += [r, g, b]\n",
    "            rgb_array = np.array(rgb_list)\n",
    "\n",
    "            # Getting classification\n",
    "            img_id = img.split('.')[0]\n",
    "            classification_array = ground_truth_df.loc[ground_truth_df['image'] == img_id, CLASSES].to_numpy()\n",
    "            instance_array = np.append(rgb_array, classification_array)\n",
    "\n",
    "            # Adding image data to data list\n",
    "            data.append(instance_array)\n",
    "\n",
    "data_array_train = np.array(data_train)\n",
    "data_array_test = np.array(data_test)\n",
    "print(f'Shape of training data: {data_array_train.shape}')\n",
    "print(f'Shape of testing data: {data_array_test.shape}')\n"
   ]
  },
  {
   "cell_type": "code",
   "execution_count": 4,
   "metadata": {},
   "outputs": [],
   "source": [
    "# Preparing plotting functionality\n",
    "\n",
    "def plot_image(data):\n",
    "    corrected = data.astype(float).astype(int)\n",
    "    image = corrected.reshape(PIXELS, PIXELS, 3)\n",
    "    plt.imshow(image)\n",
    "\n",
    "    plt.axis('off')"
   ]
  },
  {
   "cell_type": "code",
   "execution_count": 5,
   "metadata": {},
   "outputs": [
    {
     "name": "stdout",
     "output_type": "stream",
     "text": [
      "Example of pixelated images:\n"
     ]
    },
    {
     "data": {
      "image/png": "[encoded data removed]",
      "text/plain": [
       "<Figure size 640x480 with 1 Axes>"
      ]
     },
     "metadata": {},
     "output_type": "display_data"
    }
   ],
   "source": [
    "# Plotting an example image\n",
    "print('Example of pixelated images:')\n",
    "plot_image(data_array_train[1, :-7])"
   ]
  },
  {
   "cell_type": "markdown",
   "metadata": {},
   "source": [
    "# Data Augmentation\n",
    "### Adding variety to data by rotating and flipping images"
   ]
  },
  {
   "cell_type": "code",
   "execution_count": 6,
   "metadata": {},
   "outputs": [
    {
     "name": "stdout",
     "output_type": "stream",
     "text": [
      "Shape of HMNIST data: (10015, 2359)\n"
     ]
    }
   ],
   "source": [
    "# Organizing data\n",
    "hmnist_train = data_array_train[1:]\n",
    "print(f'Shape of HMNIST data: {hmnist_train.shape}')"
   ]
  },
  {
   "cell_type": "code",
   "execution_count": 7,
   "metadata": {},
   "outputs": [
    {
     "name": "stdout",
     "output_type": "stream",
     "text": [
      "Shape of X train (instance matrix): (10015, 28, 28, 3)\n",
      "Shape of y train (labels): (10015,)\n"
     ]
    }
   ],
   "source": [
    "# Extracting images and OHE labels; and also converting to categorical labels\n",
    "X_train = hmnist_train[:, :-7]\n",
    "X_train = X_train.reshape(len(X_train), PIXELS, PIXELS, 3)\n",
    "print(f'Shape of X train (instance matrix): {X_train.shape}')\n",
    "\n",
    "labels_train_ohe = hmnist_train[:, -7:]\n",
    "y_train = np.where(labels_train_ohe == '1.0')[1]\n",
    "print(f'Shape of y train (labels): {y_train.shape}')"
   ]
  },
  {
   "cell_type": "code",
   "execution_count": 8,
   "metadata": {},
   "outputs": [
    {
     "name": "stdout",
     "output_type": "stream",
     "text": [
      "Rotations finished. Generated 30045 rotated images.\n"
     ]
    }
   ],
   "source": [
    "# Rotating images\n",
    "rotated_instances = { 1: [], 2: [], 3: [] }\n",
    "for rotation in rotated_instances:\n",
    "    for x, y in zip(X_train, y_train):\n",
    "        rotated_image = np.rot90(x, rotation)\n",
    "        flattened_image = rotated_image.flatten()\n",
    "        labeled_instance = np.append(flattened_image, y)\n",
    "        rotated_instances[rotation].append(labeled_instance)\n",
    "\n",
    "total_rotations = 0\n",
    "for rotation in rotated_instances:\n",
    "    total_rotations += len(rotated_instances[rotation])\n",
    "                           \n",
    "print(f'Rotations finished. Generated {total_rotations} rotated images.')\n",
    "\n",
    "# Adding original (non-rotated) images\n",
    "rotated_instances[0] = []\n",
    "for x, y in zip(X_train, y_train):\n",
    "    flattened_image = x.flatten()\n",
    "    labeled_instance = np.append(flattened_image, y)\n",
    "    rotated_instances[0].append(labeled_instance)\n",
    "all_rotated_instances = rotated_instances[0] + rotated_instances[1] + rotated_instances[2] + rotated_instances[3]"
   ]
  },
  {
   "cell_type": "code",
   "execution_count": 9,
   "metadata": {},
   "outputs": [
    {
     "name": "stdout",
     "output_type": "stream",
     "text": [
      "Flipping finished. Generated 40060 rotated images.\n",
      "Example of flipped images:\n"
     ]
    },
    {
     "data": {
      "image/png": "[encoded data removed]",
      "text/plain": [
       "<Figure size 640x480 with 1 Axes>"
      ]
     },
     "metadata": {},
     "output_type": "display_data"
    }
   ],
   "source": [
    "# Flipping images\n",
    "flipped_instances = []\n",
    "for rotated_instance in all_rotated_instances:\n",
    "    x, y = rotated_instance[:-1], rotated_instance[-1]\n",
    "    image = x.reshape(PIXELS, PIXELS, 3)\n",
    "    flipped_image = np.fliplr(image)\n",
    "    flattened_image = flipped_image.flatten()\n",
    "    labeled_instance = np.append(flattened_image, y)\n",
    "    flipped_instances.append(labeled_instance)\n",
    "\n",
    "print(f'Flipping finished. Generated {len(flipped_instances)} rotated images.')\n",
    "print('Example of flipped images:')\n",
    "plot_image(flipped_instances[0][:-1])"
   ]
  },
  {
   "cell_type": "code",
   "execution_count": 10,
   "metadata": {},
   "outputs": [
    {
     "name": "stdout",
     "output_type": "stream",
     "text": [
      "Shape of final instances matrix: (80120, 2353)\n"
     ]
    }
   ],
   "source": [
    "# Combining all data\n",
    "all_instances = all_rotated_instances + flipped_instances\n",
    "all_instances = np.array(all_instances)\n",
    "print(f'Shape of final instances matrix: {all_instances.shape}')"
   ]
  },
  {
   "cell_type": "markdown",
   "metadata": {},
   "source": [
    "# Building and Training a CNN Model"
   ]
  },
  {
   "cell_type": "code",
   "execution_count": 11,
   "metadata": {},
   "outputs": [
    {
     "name": "stdout",
     "output_type": "stream",
     "text": [
      "Training features matrix: (80120, 28, 28, 3)\n",
      "Training labels vector: (80120,)\n"
     ]
    }
   ],
   "source": [
    "# Reshaping training data\n",
    "X_train_aug, y_train_aug = all_instances[:, :-1], all_instances[:, -1]\n",
    "X_train_aug = X_train_aug.reshape(len(X_train_aug), PIXELS, PIXELS, 3)\n",
    "print(f'Training features matrix: {X_train_aug.shape}')\n",
    "print(f'Training labels vector: {y_train_aug.shape}')"
   ]
  },
  {
   "cell_type": "code",
   "execution_count": 12,
   "metadata": {},
   "outputs": [],
   "source": [
    "# Scaling and typing data\n",
    "X_train_aug = X_train_aug.astype(float) / 255.0\n",
    "y_train_aug = y_train_aug.astype(int)"
   ]
  },
  {
   "cell_type": "code",
   "execution_count": 13,
   "metadata": {},
   "outputs": [
    {
     "name": "stdout",
     "output_type": "stream",
     "text": [
      "Model: \"sequential\"\n",
      "_________________________________________________________________\n",
      " Layer (type)                Output Shape              Param #   \n",
      "=================================================================\n",
      " conv2d (Conv2D)             (None, 28, 28, 64)        9472      \n",
      "                                                                 \n",
      " max_pooling2d (MaxPooling2  (None, 14, 14, 64)        0         \n",
      " D)                                                              \n",
      "                                                                 \n",
      " conv2d_1 (Conv2D)           (None, 14, 14, 128)       73856     \n",
      "                                                                 \n",
      " conv2d_2 (Conv2D)           (None, 14, 14, 128)       147584    \n",
      "                                                                 \n",
      " max_pooling2d_1 (MaxPoolin  (None, 7, 7, 128)         0         \n",
      " g2D)                                                            \n",
      "                                                                 \n",
      " conv2d_3 (Conv2D)           (None, 7, 7, 256)         295168    \n",
      "                                                                 \n",
      " conv2d_4 (Conv2D)           (None, 7, 7, 256)         590080    \n",
      "                                                                 \n",
      " max_pooling2d_2 (MaxPoolin  (None, 3, 3, 256)         0         \n",
      " g2D)                                                            \n",
      "                                                                 \n",
      " flatten (Flatten)           (None, 2304)              0         \n",
      "                                                                 \n",
      " dense (Dense)               (None, 128)               295040    \n",
      "                                                                 \n",
      " dropout (Dropout)           (None, 128)               0         \n",
      "                                                                 \n",
      " dense_1 (Dense)             (None, 64)                8256      \n",
      "                                                                 \n",
      " dropout_1 (Dropout)         (None, 64)                0         \n",
      "                                                                 \n",
      " dense_2 (Dense)             (None, 7)                 455       \n",
      "                                                                 \n",
      "=================================================================\n",
      "Total params: 1419911 (5.42 MB)\n",
      "Trainable params: 1419911 (5.42 MB)\n",
      "Non-trainable params: 0 (0.00 Byte)\n",
      "_________________________________________________________________\n"
     ]
    }
   ],
   "source": [
    "# Model Implementation\n",
    "DefaultConv2D = partial(tf.keras.layers.Conv2D, kernel_size=3, padding='same',\n",
    "                        activation='relu', kernel_initializer='he_normal')\n",
    "model = tf.keras.Sequential([\n",
    "    DefaultConv2D(filters=64, kernel_size=7, input_shape=[PIXELS,PIXELS,3]),\n",
    "    tf.keras.layers.MaxPool2D(),\n",
    "    DefaultConv2D(filters=128),\n",
    "    DefaultConv2D(filters=128),\n",
    "    tf.keras.layers.MaxPool2D(),\n",
    "    DefaultConv2D(filters=256),\n",
    "    DefaultConv2D(filters=256),\n",
    "    tf.keras.layers.MaxPool2D(),\n",
    "    tf.keras.layers.Flatten(),\n",
    "    tf.keras.layers.Dense(units=128, activation='relu',\n",
    "                          kernel_initializer='he_normal'),\n",
    "    tf.keras.layers.Dropout(0.5),\n",
    "    tf.keras.layers.Dense(units=64, activation='relu',\n",
    "                          kernel_initializer='he_normal'),\n",
    "    tf.keras.layers.Dropout(0.5),\n",
    "    tf.keras.layers.Dense(units=7, activation='softmax')\n",
    "])\n",
    "\n",
    "model.summary()"
   ]
  },
  {
   "cell_type": "code",
   "execution_count": 14,
   "metadata": {},
   "outputs": [],
   "source": [
    "# Compiling model\n",
    "model.compile(\n",
    "    loss='sparse_categorical_crossentropy',\n",
    "    optimizer='sgd',\n",
    "    metrics=['accuracy']\n",
    ")"
   ]
  },
  {
   "cell_type": "code",
   "execution_count": 15,
   "metadata": {},
   "outputs": [
    {
     "name": "stdout",
     "output_type": "stream",
     "text": [
      "Epoch 1/5\n",
      "2504/2504 [==============================] - 228s 91ms/step - loss: 0.9841 - accuracy: 0.6691\n",
      "Epoch 2/5\n",
      "2504/2504 [==============================] - 224s 89ms/step - loss: 0.8702 - accuracy: 0.6837\n",
      "Epoch 3/5\n",
      "2504/2504 [==============================] - 222s 89ms/step - loss: 0.8168 - accuracy: 0.7009\n",
      "Epoch 4/5\n",
      "2504/2504 [==============================] - 223s 89ms/step - loss: 0.7774 - accuracy: 0.7180\n",
      "Epoch 5/5\n",
      "2504/2504 [==============================] - 220s 88ms/step - loss: 0.7453 - accuracy: 0.7290\n"
     ]
    }
   ],
   "source": [
    "# Training model\n",
    "history = model.fit(X_train_aug, y_train_aug, epochs=5)"
   ]
  },
  {
   "cell_type": "markdown",
   "metadata": {},
   "source": [
    "# Testing Model"
   ]
  },
  {
   "cell_type": "code",
   "execution_count": 16,
   "metadata": {},
   "outputs": [
    {
     "name": "stdout",
     "output_type": "stream",
     "text": [
      "Shape of X test (instance matrix): (1512, 28, 28, 3)\n",
      "Shape of y test (labels): (1512,)\n"
     ]
    }
   ],
   "source": [
    "# Preparing test data\n",
    "hmnist_test = data_array_test[1:]\n",
    "\n",
    "X_test = hmnist_test[:, :-7].astype(float)\n",
    "X_test = X_test.reshape(len(X_test), PIXELS, PIXELS, 3)\n",
    "print(f'Shape of X test (instance matrix): {X_test.shape}')\n",
    "\n",
    "labels_test_ohe = hmnist_test[:, -7:]\n",
    "y_test = np.where(labels_test_ohe == '1.0')[1]\n",
    "print(f'Shape of y test (labels): {y_test.shape}')"
   ]
  },
  {
   "cell_type": "code",
   "execution_count": 17,
   "metadata": {},
   "outputs": [
    {
     "name": "stdout",
     "output_type": "stream",
     "text": [
      "48/48 [==============================] - 1s 22ms/step - loss: 177.2093 - accuracy: 0.5866\n"
     ]
    },
    {
     "data": {
      "text/plain": [
       "[177.2093048095703, 0.5866402387619019]"
      ]
     },
     "execution_count": 17,
     "metadata": {},
     "output_type": "execute_result"
    }
   ],
   "source": [
    "# Evaluating model\n",
    "model.evaluate(X_test, y_test)"
   ]
  }
 ],
 "metadata": {
  "kernelspec": {
   "display_name": "Python 3",
   "language": "python",
   "name": "python3"
  },
  "language_info": {
   "codemirror_mode": {
    "name": "ipython",
    "version": 3
   },
   "file_extension": ".py",
   "mimetype": "text/x-python",
   "name": "python",
   "nbconvert_exporter": "python",
   "pygments_lexer": "ipython3",
   "version": "3.9.6"
  }
 },
 "nbformat": 4,
 "nbformat_minor": 2
}
